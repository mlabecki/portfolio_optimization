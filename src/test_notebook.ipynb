{
 "cells": [
  {
   "cell_type": "markdown",
   "metadata": {},
   "source": [
    "1. Define Libraries"
   ]
  },
  {
   "cell_type": "code",
   "execution_count": 1,
   "metadata": {},
   "outputs": [],
   "source": [
    "import yfinance as yf\n",
    "import pandas as pd\n",
    "import numpy as np\n",
    "from datetime import datetime, timedelta\n",
    "import matplotlib\n",
    "import matplotlib.pyplot as plt\n",
    "import seaborn as sns\n",
    "import os\n",
    "from scipy.optimize import minimize\n",
    "from mapping_tickers import *"
   ]
  },
  {
   "cell_type": "markdown",
   "metadata": {},
   "source": [
    "2. Define Tickers"
   ]
  },
  {
   "cell_type": "code",
   "execution_count": 2,
   "metadata": {},
   "outputs": [],
   "source": [
    "yt_example_tickers = ['SPY', 'BND', 'GLD', 'QQQ', 'VTI']\n",
    "\"\"\"\n",
    "SPY:    SPDR S&P 500 ETF Trust\n",
    "BND:    Vanguard Total Bond Market Index Fund\n",
    "GLD:    SPDR Gold Shares\n",
    "QQQ:    Invesco QQQ Trust\n",
    "VTI:    Vanguard Total Stock Market Index Fund ETF Shares\n",
    "\"\"\"\n",
    "\n",
    "three_month_treasury_ticker = '^IRX'\n",
    "# 13 WEEK TREASURY BILL\n",
    "ten_year_treasury_ticker = '^TNX'\n",
    "# CBOE Interest Rate 10 Year Treasury Note\n",
    "\n",
    "crypto_tickers = ['BTC-USD', 'ETH-USD', 'USDT-USD', 'BNB-USD', 'SOL-USD', 'USDC-USD', 'XRP-USD', 'TON-USD', 'DOGE-USD', 'ADA-USD', 'TRX-USD', 'AVAX-USD', 'SHIB-USD', 'DOT-USD', 'LINK-USD',\n",
    "    'BCH-USD', 'DAI-USD', 'LEO-USD', 'NEAR-USD', 'MATIC-USD', 'UNI7083-USD', 'LTC-USD', 'KAS-USD', 'PEPE24478-USD', 'ICP-USD', 'ETC-USD', 'FET-USD', 'XMR-USD', 'APT-USD', 'XLM-USD', 'RNDR-USD',\n",
    "    'HBAR-USD', 'ATOM-USD', 'CRO-USD', 'OKB-USD', 'FIL-USD', 'ARB11841-USD', 'MNT27075-USD', 'MKR-USD', 'STX4847-USD', 'FDUSD-USD', 'VET-USD', 'IMX10603-USD', 'INJ-USD', 'SUI20947-USD',\n",
    "    'WIF-USD', 'GRT6719-USD', 'NOT-USD', 'TAO22974-USD', 'OP-USD']\n",
    "\"\"\"\n",
    "Top 50 by market cap (current price x circulating amount)\n",
    "BTC-USD:        Bitcoin USD\n",
    "ETH-USD:        Ethereum USD\n",
    "USDT-USD:       Tether USD\n",
    "BNB-USD:        BNB USD\n",
    "SOL-USD:        Solana USD\n",
    "USDC-USD:       USDC USD\n",
    "XRP-USD:        XRP USD\n",
    "TON-USD:        Tokamak Network USD\n",
    "DOGE-USD:       Dogecoin USD\n",
    "ADA-USD:        Cardano USD\n",
    "TRX-USD:        TRON USD\n",
    "AVAX-USD:       Avalanche USD\n",
    "SHIB-USD:       Shiba Inu USD\n",
    "DOT-USD:        Polkadot USD\n",
    "LINK-USD:       Chainlink USD\n",
    "BCH-USD:        Bitcoin Cash USD\n",
    "DAI-USD:        Dai USD\n",
    "LEO-USD:        UNUS SED LEO USD\n",
    "NEAR-USD:       NEAR Protocol USD\n",
    "MATIC-USD:      Polygon USD\n",
    "UNI7083-USD:    Uniswap USD (NOTE: UNI-USD is UNICORN Token USD in Yahoo!Finance)\n",
    "LTC-USD:        Litecoin USD\n",
    "KAS-USD:        Kaspa USD\n",
    "PEPE24478-USD:  Pepe USD (NOTE: PEPE-USD is PEPEGOLD, a different cryptocurrency launched in 2024)\n",
    "ICP-USD:        Internet Computer USD\n",
    "ETC-USD:        Ethereum Classic USD\n",
    "FET-USD:        Artificial Superintelligence Alliance USD\n",
    "XMR-USD:        Monero USD\n",
    "APT-USD:        Apricot Finance USD\n",
    "XLM-USD:        Stellar USD\n",
    "RNDR-USD:       Render USD\n",
    "HBAR-USD:       Hedera USD\n",
    "ATOM-USD:       Cosmos USD\n",
    "CRO-USD:        Cronos USD\n",
    "OKB-USD:        OKB USD\n",
    "ARB11841-USD:   Arbitrum USD (NOTE: ARB-USD is ARbit USD in Yahoo!Finance)\n",
    "MNT27075-USD:   Mantle USD (NOTE: MNT-USD is microNFT USD in Yahoo!Finance)\n",
    "MKR-USD:        Maker USD\n",
    "STX4847-USD:    Stacks USD (NOTE: STX-USD is stox USD in Yahoo!Finance)\n",
    "FDUSD-USD:      First Digital USD USD\n",
    "VET-USD:        VeChain USD\n",
    "IMX10603-USD:   Immutable USD (NOTE: IMX-USD is Impermax USD in Yahoo!Finance)\n",
    "INJ-USD:        Injective USD\n",
    "SUI20947-USD:   Sui USD (NOTE: SUI-USD is Salmonation USD in Yahoo!Finance)\n",
    "WIF-USD:        dogwifhat USD\n",
    "GRT6719-USD:    The Graph USD (NOTE: GRT-USD is Golden Ratio Token USD in Yahoo!Finance)\n",
    "NOT-USD:        Notcoin USD\n",
    "TAO22974-USD:   TaoPad USD (part of Bittensor network)\n",
    "OP-USD:         Optimism USD\n",
    "\"\"\"\n",
    "\n",
    "# tickers = crypto_tickers \n",
    "tickers = list(djia_components.keys())\n",
    "# tickers = list(ndx_top30_components.keys())"
   ]
  },
  {
   "cell_type": "markdown",
   "metadata": {},
   "source": [
    "3. Define Start and End Dates"
   ]
  },
  {
   "cell_type": "code",
   "execution_count": 3,
   "metadata": {},
   "outputs": [
    {
     "name": "stdout",
     "output_type": "stream",
     "text": [
      "2023-07-14 15:32:01.387155 2024-07-14 15:32:01.387155\n"
     ]
    }
   ],
   "source": [
    "end_date = datetime.today()\n",
    "# start_date = end_date - timedelta(days = 3*365 + 2*366)\n",
    "start_date = end_date - timedelta(days = 366)\n",
    "print(start_date, end_date)"
   ]
  },
  {
   "cell_type": "markdown",
   "metadata": {},
   "source": [
    "4. Download Adjusted Close Prices and Volumes"
   ]
  },
  {
   "cell_type": "code",
   "execution_count": 4,
   "metadata": {},
   "outputs": [
    {
     "name": "stderr",
     "output_type": "stream",
     "text": [
      "[*********************100%%**********************]  1 of 1 completed\n",
      "[*********************100%%**********************]  1 of 1 completed\n",
      "[*********************100%%**********************]  1 of 1 completed\n",
      "[*********************100%%**********************]  1 of 1 completed\n",
      "[*********************100%%**********************]  1 of 1 completed\n",
      "[*********************100%%**********************]  1 of 1 completed\n",
      "[*********************100%%**********************]  1 of 1 completed\n",
      "[*********************100%%**********************]  1 of 1 completed\n",
      "[*********************100%%**********************]  1 of 1 completed\n",
      "[*********************100%%**********************]  1 of 1 completed\n",
      "[*********************100%%**********************]  1 of 1 completed\n",
      "[*********************100%%**********************]  1 of 1 completed\n",
      "[*********************100%%**********************]  1 of 1 completed\n",
      "[*********************100%%**********************]  1 of 1 completed\n",
      "[*********************100%%**********************]  1 of 1 completed\n",
      "[*********************100%%**********************]  1 of 1 completed\n",
      "[*********************100%%**********************]  1 of 1 completed\n",
      "[*********************100%%**********************]  1 of 1 completed\n",
      "[*********************100%%**********************]  1 of 1 completed\n",
      "[*********************100%%**********************]  1 of 1 completed\n",
      "[*********************100%%**********************]  1 of 1 completed\n",
      "[*********************100%%**********************]  1 of 1 completed\n",
      "[*********************100%%**********************]  1 of 1 completed\n",
      "[*********************100%%**********************]  1 of 1 completed\n",
      "[*********************100%%**********************]  1 of 1 completed\n",
      "[*********************100%%**********************]  1 of 1 completed\n",
      "[*********************100%%**********************]  1 of 1 completed\n",
      "[*********************100%%**********************]  1 of 1 completed\n",
      "[*********************100%%**********************]  1 of 1 completed\n",
      "[*********************100%%**********************]  1 of 1 completed"
     ]
    },
    {
     "name": "stdout",
     "output_type": "stream",
     "text": [
      "                  AAPL        AMGN        AMZN         AXP          BA  \\\n",
      "Date                                                                     \n",
      "2023-07-14  189.682663  220.539444  134.679993  171.083191  213.119995   \n",
      "2023-07-17  192.965210  220.937012  133.559998  173.056595  211.869995   \n",
      "2023-07-18  192.706573  225.523697  132.830002  175.671326  211.570007   \n",
      "2023-07-19  194.069336  225.019455  135.360001  174.763565  208.600006   \n",
      "2023-07-20  192.109756  226.163696  129.960007  174.753708  213.610001   \n",
      "...                ...         ...         ...         ...         ...   \n",
      "2024-07-08  227.820007  311.459991  199.289993  234.509995  185.839996   \n",
      "2024-07-09  228.679993  315.910004  199.339996  237.750000  183.240005   \n",
      "2024-07-10  232.979996  321.670013  199.789993  238.929993  183.729996   \n",
      "2024-07-11  227.570007  325.089996  195.050003  238.750000  183.910004   \n",
      "2024-07-12  230.539993  330.829987  194.490005  238.630005  182.309998   \n",
      "\n",
      "                   CAT         CRM       CSCO         CVX        DIS  ...  \\\n",
      "Date                                                                  ...   \n",
      "2023-07-14  250.970963  228.674866  48.812153  147.426422  87.926476  ...   \n",
      "2023-07-17  252.777512  227.348663  49.228775  147.292038  84.890411  ...   \n",
      "2023-07-18  259.012024  226.979736  49.645397  147.589615  85.277359  ...   \n",
      "2023-07-19  259.248810  233.700455  50.798363  148.491959  86.358833  ...   \n",
      "2023-07-20  257.610931  227.508224  50.740227  150.133408  85.535332  ...   \n",
      "...                ...         ...        ...         ...        ...  ...   \n",
      "2024-07-08  329.059998  256.970001  46.060001  154.330002  97.370003  ...   \n",
      "2024-07-09  326.059998  252.429993  45.799999  152.979996  97.050003  ...   \n",
      "2024-07-10  328.480011  252.589996  46.270000  155.130005  96.970001  ...   \n",
      "2024-07-11  331.130005  251.119995  46.759998  155.259995  96.599998  ...   \n",
      "2024-07-12  335.589996  253.970001  47.380001  155.589996  97.129997  ...   \n",
      "\n",
      "                   MMM         MRK        MSFT         NKE          PG  \\\n",
      "Date                                                                     \n",
      "2023-07-14   81.050644  104.554092  342.560272  106.430473  146.300659   \n",
      "2023-07-17   80.575272  102.830032  343.046478  107.179787  145.267151   \n",
      "2023-07-18   81.613159  103.200172  356.699615  108.175560  145.540146   \n",
      "2023-07-19   81.985535  103.200172  352.323914  108.333305  146.534668   \n",
      "2023-07-20   82.627281  105.645027  344.177612  106.016388  147.722855   \n",
      "...                ...         ...         ...         ...         ...   \n",
      "2024-07-08  101.099998  125.779999  466.239990   73.050003  166.520004   \n",
      "2024-07-09   99.690002  126.040001  459.540009   72.459999  165.660004   \n",
      "2024-07-10  101.669998  127.300003  466.250000   72.540001  166.800003   \n",
      "2024-07-11  103.230003  128.970001  454.700012   73.389999  165.539993   \n",
      "2024-07-12  104.040001  127.760002  453.549988   73.419998  166.610001   \n",
      "\n",
      "                   TRV         UNH           V         VZ        WMT  \n",
      "Date                                                                  \n",
      "2023-07-14  162.467712  472.804321  241.290680  31.706278  50.830963  \n",
      "2023-07-17  165.052322  476.654297  242.114319  29.329010  50.893406  \n",
      "2023-07-18  167.431351  492.330109  238.919083  30.084143  50.801384  \n",
      "2023-07-19  166.980972  495.973358  239.564056  31.668995  50.817810  \n",
      "2023-07-20  169.986557  496.505066  237.777893  31.361341  51.757786  \n",
      "...                ...         ...         ...        ...        ...  \n",
      "2024-07-08  204.229996  489.339996  266.399994  40.861294  69.680000  \n",
      "2024-07-09  203.139999  492.109985  265.440002  40.634998  69.900002  \n",
      "2024-07-10  207.190002  500.929993  263.000000  41.080002  70.410004  \n",
      "2024-07-11  208.949997  504.359985  262.549988  41.299999  69.800003  \n",
      "2024-07-12  211.600006  511.529999  265.739990  41.430000  69.239998  \n",
      "\n",
      "[251 rows x 30 columns]\n"
     ]
    },
    {
     "name": "stderr",
     "output_type": "stream",
     "text": [
      "\n"
     ]
    }
   ],
   "source": [
    "# Adjusted Close are more accurate than regular Close because they include dividends and stock splits\n",
    "df_adj_close = pd.DataFrame()\n",
    "df_volumes = pd.DataFrame()\n",
    "for tk in tickers:\n",
    "    data = yf.download(tk, start=start_date, end=end_date)\n",
    "    # print(f'{tk}:\\t{data.index[0]}\\t{data[\"Adj Close\"].values[0]:.8f}\\t{data[\"Volume\"].values[0]:.8f}')\n",
    "    df_adj_close[tk] = data['Adj Close']\n",
    "    df_volumes[tk] = data['Volume']\n",
    "df_adj_close = df_adj_close.dropna()\n",
    "print(df_adj_close)"
   ]
  },
  {
   "cell_type": "markdown",
   "metadata": {},
   "source": [
    "5. Calculate Lognormal Returns"
   ]
  },
  {
   "cell_type": "code",
   "execution_count": 5,
   "metadata": {},
   "outputs": [],
   "source": [
    "log_returns = pd.DataFrame(np.log(df_adj_close / df_adj_close.shift(1))).dropna()\n",
    "# print(log_returns)"
   ]
  },
  {
   "cell_type": "code",
   "execution_count": 6,
   "metadata": {},
   "outputs": [],
   "source": [
    "# from mpl_toolkits.axes_grid1 import AxesGrid\n",
    "\n",
    "def shifted_color_map(\n",
    "    cmap, \n",
    "    start=0,\n",
    "    midpoint=0.5,\n",
    "    stop=1,\n",
    "    name='shifted_cmap'\n",
    "):\n",
    "    '''\n",
    "    https://stackoverflow.com/questions/7404116/defining-the-midpoint-of-a-colormap-in-matplotlib\n",
    "\n",
    "    Function to offset the \"center\" of a colormap. Useful, for example, for data\n",
    "    with a negative minimum value and a positive maximum value if we want the middle \n",
    "    of the colormap's dynamic range to be at zero.\n",
    "\n",
    "    Input parameters\n",
    "    -----\n",
    "    cmap:   The matplotlib colormap to be altered (e.g. plt.cm.summer)\n",
    "    start:  Offset from lowest point in the colormap's range. Should be between\n",
    "        0 and 'midpoint', defaults to 0 (no lower offset).\n",
    "    midpoint: The new center of the colormap. Should be between 0 and 1, defaults \n",
    "        to 0.5 (no shift). \n",
    "    stop:   Offset from highest point in the colormap's range. Should be\n",
    "        between 'midpoint' and 1, defaults to 1 (no upper offset).\n",
    "    '''\n",
    "    \n",
    "    cdict = {\n",
    "        'red': [],\n",
    "        'green': [],\n",
    "        'blue': [],\n",
    "        'alpha': []\n",
    "    }\n",
    "\n",
    "    # Regular index to compute the colors\n",
    "    reg_index = np.linspace(start, stop, 257)\n",
    "\n",
    "    # Shifted index to match the data\n",
    "    shift_index = np.hstack([\n",
    "        np.linspace(0, midpoint, 128, endpoint=False), \n",
    "        np.linspace(midpoint, 1, 129, endpoint=True)\n",
    "    ])\n",
    "\n",
    "    for ri, si in zip(reg_index, shift_index):\n",
    "        r, g, b, a = cmap(ri)\n",
    "\n",
    "        cdict['red'].append((si, r, r))\n",
    "        cdict['green'].append((si, g, g))\n",
    "        cdict['blue'].append((si, b, b))\n",
    "        cdict['alpha'].append((si, a, a))\n",
    "\n",
    "    newcmap = matplotlib.colors.LinearSegmentedColormap(name, cdict)\n",
    "    \n",
    "    return newcmap"
   ]
  },
  {
   "cell_type": "code",
   "execution_count": 29,
   "metadata": {},
   "outputs": [
    {
     "ename": "NameError",
     "evalue": "name 'no_type_check' is not defined",
     "output_type": "error",
     "traceback": [
      "\u001b[1;31m---------------------------------------------------------------------------\u001b[0m",
      "\u001b[1;31mNameError\u001b[0m                                 Traceback (most recent call last)",
      "Cell \u001b[1;32mIn[29], line 1\u001b[0m\n\u001b[1;32m----> 1\u001b[0m \u001b[38;5;129m@no_type_check\u001b[39m\n\u001b[0;32m      2\u001b[0m \u001b[38;5;28;01mdef\u001b[39;00m \u001b[38;5;21mplot_correlations\u001b[39m(\n\u001b[0;32m      3\u001b[0m     corr_matrix,\n\u001b[0;32m      4\u001b[0m     vmin\u001b[38;5;241m=\u001b[39m\u001b[38;5;241m-\u001b[39m\u001b[38;5;241m1\u001b[39m,\n\u001b[0;32m      5\u001b[0m     vmax\u001b[38;5;241m=\u001b[39m\u001b[38;5;241m1\u001b[39m,\n\u001b[0;32m      6\u001b[0m     eps\u001b[38;5;241m=\u001b[39m\u001b[38;5;241m0.001\u001b[39m,\n\u001b[0;32m      7\u001b[0m     cmap\u001b[38;5;241m=\u001b[39mplt\u001b[38;5;241m.\u001b[39mcm\u001b[38;5;241m.\u001b[39mseismic,\n\u001b[0;32m      8\u001b[0m     shifted\u001b[38;5;241m=\u001b[39m\u001b[38;5;28;01mTrue\u001b[39;00m,\n\u001b[0;32m      9\u001b[0m     cmap_offset\u001b[38;5;241m=\u001b[39m\u001b[38;5;241m0\u001b[39m\n\u001b[0;32m     10\u001b[0m ):\n\u001b[0;32m     11\u001b[0m \u001b[38;5;250m    \u001b[39m\u001b[38;5;124;03m\"\"\"\u001b[39;00m\n\u001b[0;32m     12\u001b[0m \u001b[38;5;124;03m    Plot correlation matrix using seaborn heatmap\u001b[39;00m\n\u001b[0;32m     13\u001b[0m \u001b[38;5;124;03m    \"\"\"\u001b[39;00m\n\u001b[0;32m     14\u001b[0m     vmin_eps \u001b[38;5;241m=\u001b[39m vmin \u001b[38;5;241m-\u001b[39m eps\n",
      "\u001b[1;31mNameError\u001b[0m: name 'no_type_check' is not defined"
     ]
    }
   ],
   "source": [
    "@no_type_check\n",
    "def plot_correlations(\n",
    "    corr_matrix,\n",
    "    vmin=-1,\n",
    "    vmax=1,\n",
    "    eps=0.001,\n",
    "    cmap=plt.cm.seismic,\n",
    "    shifted=True,\n",
    "    cmap_offset=0\n",
    "):\n",
    "    \"\"\"\n",
    "    Plot correlation matrix using seaborn heatmap\n",
    "    \"\"\"\n",
    "    vmin_eps = vmin - eps\n",
    "    vmax_eps = vmax + eps\n",
    "    vcenter = vmin + 0.5 * (vmax - vmin)\n",
    "    \n",
    "    if shifted:\n",
    "        cmap_midpoint = 1 - vmax / (vmax - vmin)\n",
    "        cmap_start = cmap_offset\n",
    "        cmap_stop = 1 - cmap_offset\n",
    "        newcmap = shifted_color_map(cmap, start=cmap_start, midpoint=cmap_midpoint, stop=cmap_stop, name='shifted')\n",
    "    else:\n",
    "        newcmap = cmap\n",
    "\n",
    "    corr_plot = sns.heatmap(corr_matrix, norm=TwoSlopeNorm(vcenter=vcenter, vmin=vmin_eps, vmax=vmax_eps), cmap=newcmap)\n",
    "\n",
    "    return corr_plot"
   ]
  },
  {
   "cell_type": "markdown",
   "metadata": {},
   "source": [
    "6. Calculate Covariance Matrix Using Annualized Returns"
   ]
  },
  {
   "cell_type": "code",
   "execution_count": 26,
   "metadata": {},
   "outputs": [
    {
     "name": "stdout",
     "output_type": "stream",
     "text": [
      "              AAPL      AMGN      AMZN       AXP        BA       CAT  \\\n",
      "AAPL  4.977378e-02  0.008269  0.017424  0.005250  0.011777  0.010563   \n",
      "AMGN  8.269381e-03  0.059358  0.008441  0.008464  0.002177  0.012727   \n",
      "AMZN  1.742421e-02  0.008441  0.076238  0.014561  0.013347  0.016800   \n",
      "AXP   5.250431e-03  0.008464  0.014561  0.044007  0.016316  0.019731   \n",
      "BA    1.177653e-02  0.002177  0.013347  0.016316  0.097159  0.008501   \n",
      "CAT   1.056256e-02  0.012727  0.016800  0.019731  0.008501  0.065832   \n",
      "CRM   1.400229e-02  0.006967  0.036782  0.016602  0.011056  0.020359   \n",
      "CSCO  6.107553e-03  0.010381  0.011482  0.006583 -0.000455  0.011773   \n",
      "CVX  -5.053093e-04  0.005576 -0.003127  0.010746  0.003500  0.017237   \n",
      "DIS   3.626220e-03  0.005372  0.011673  0.013524  0.011785  0.011735   \n",
      "DOW   5.732306e-03  0.007034  0.009278  0.012133  0.010748  0.024902   \n",
      "GS    4.461876e-03  0.014555  0.009634  0.020154  0.014943  0.024886   \n",
      "HD    9.852255e-03  0.012173  0.012221  0.014168  0.011940  0.019660   \n",
      "HON   6.789945e-03  0.008320  0.008126  0.011772  0.011921  0.010619   \n",
      "IBM   4.297552e-03  0.010438  0.008819  0.010385  0.000553  0.018233   \n",
      "INTC  2.379674e-02  0.006510  0.030123  0.003353  0.021094  0.012801   \n",
      "JNJ   2.563982e-07  0.010659 -0.002866  0.004594  0.008594  0.004767   \n",
      "JPM   8.231312e-04  0.007793  0.002839  0.018047  0.009880  0.013456   \n",
      "KO    3.630282e-03  0.007587  0.001249  0.005430  0.005111  0.002699   \n",
      "MCD   3.442903e-03  0.006847  0.003635  0.005031  0.009481  0.001479   \n",
      "MMM   5.893151e-03  0.010520  0.002666  0.012032  0.011300  0.016574   \n",
      "MRK   2.554460e-03  0.010739  0.001510  0.005550  0.001969  0.003253   \n",
      "MSFT  2.006818e-02  0.006060  0.031853  0.010242 -0.000157  0.011975   \n",
      "NKE   1.613799e-02  0.006407  0.018310  0.009483  0.016288  0.007299   \n",
      "PG    1.527730e-03  0.006457  0.000774  0.003977  0.000993  0.000258   \n",
      "TRV  -1.245679e-03  0.005986 -0.001473  0.011156  0.007083  0.006120   \n",
      "UNH  -2.412937e-03  0.005669 -0.004107  0.006914  0.006082 -0.003222   \n",
      "V     7.747143e-03  0.004683  0.011495  0.007559  0.000581  0.009796   \n",
      "VZ    4.555125e-04  0.007845  0.000718  0.006203  0.003204  0.008937   \n",
      "WMT   1.837151e-03  0.005494  0.005378  0.005672  0.005928  0.001545   \n",
      "\n",
      "           CRM      CSCO       CVX       DIS  ...       MMM       MRK  \\\n",
      "AAPL  0.014002  0.006108 -0.000505  0.003626  ...  0.005893  0.002554   \n",
      "AMGN  0.006967  0.010381  0.005576  0.005372  ...  0.010520  0.010739   \n",
      "AMZN  0.036782  0.011482 -0.003127  0.011673  ...  0.002666  0.001510   \n",
      "AXP   0.016602  0.006583  0.010746  0.013524  ...  0.012032  0.005550   \n",
      "BA    0.011056 -0.000455  0.003500  0.011785  ...  0.011300  0.001969   \n",
      "CAT   0.020359  0.011773  0.017237  0.011735  ...  0.016574  0.003253   \n",
      "CRM   0.122596  0.014467  0.003781  0.011211  ...  0.011090  0.006337   \n",
      "CSCO  0.014467  0.035216  0.007201  0.005800  ...  0.007605  0.001898   \n",
      "CVX   0.003781  0.007201  0.039539  0.009987  ...  0.008836  0.004792   \n",
      "DIS   0.011211  0.005800  0.009987  0.071298  ...  0.011289 -0.000096   \n",
      "DOW   0.008788  0.008547  0.013375  0.010385  ...  0.019120  0.000701   \n",
      "GS    0.010398  0.007296  0.013245  0.011298  ...  0.018532  0.008429   \n",
      "HD    0.012114  0.009239  0.007404  0.008594  ...  0.016880  0.004436   \n",
      "HON   0.006674  0.007789  0.004651  0.003765  ...  0.012026  0.004195   \n",
      "IBM   0.017413  0.008113  0.003561  0.007809  ...  0.010791  0.002710   \n",
      "INTC  0.025283  0.006244 -0.005411  0.016734  ...  0.011538 -0.004114   \n",
      "JNJ   0.002604  0.004429  0.005393  0.000407  ...  0.010416  0.009628   \n",
      "JPM   0.007616  0.005966  0.013606  0.007637  ...  0.012692  0.005442   \n",
      "KO    0.005441  0.006975  0.002243  0.002018  ...  0.009023  0.005373   \n",
      "MCD   0.008886  0.005154  0.003160  0.004418  ...  0.006158  0.006188   \n",
      "MMM   0.011090  0.007605  0.008836  0.011289  ...  0.071522  0.004529   \n",
      "MRK   0.006337  0.001898  0.004792 -0.000096  ...  0.004529  0.031998   \n",
      "MSFT  0.029281  0.006606 -0.001989  0.007530  ...  0.003580  0.001101   \n",
      "NKE   0.005132  0.009374  0.006624  0.017969  ...  0.013762  0.011977   \n",
      "PG    0.002092  0.002435  0.003171  0.001647  ...  0.002081  0.006331   \n",
      "TRV   0.002789 -0.000123  0.008373  0.005077  ...  0.009223  0.006364   \n",
      "UNH   0.005113  0.002051  0.003266  0.000152  ... -0.000372  0.003250   \n",
      "V     0.013244  0.006265  0.004253  0.003688  ...  0.005293  0.005652   \n",
      "VZ   -0.000993  0.006556  0.006938  0.009504  ...  0.009034  0.007356   \n",
      "WMT   0.002387  0.009078  0.002805 -0.000262  ...  0.004542  0.003981   \n",
      "\n",
      "          MSFT       NKE        PG       TRV       UNH         V        VZ  \\\n",
      "AAPL  0.020068  0.016138  0.001528 -0.001246 -0.002413  0.007747  0.000456   \n",
      "AMGN  0.006060  0.006407  0.006457  0.005986  0.005669  0.004683  0.007845   \n",
      "AMZN  0.031853  0.018310  0.000774 -0.001473 -0.004107  0.011495  0.000718   \n",
      "AXP   0.010242  0.009483  0.003977  0.011156  0.006914  0.007559  0.006203   \n",
      "BA   -0.000157  0.016288  0.000993  0.007083  0.006082  0.000581  0.003204   \n",
      "CAT   0.011975  0.007299  0.000258  0.006120 -0.003222  0.009796  0.008937   \n",
      "CRM   0.029281  0.005132  0.002092  0.002789  0.005113  0.013244 -0.000993   \n",
      "CSCO  0.006606  0.009374  0.002435 -0.000123  0.002051  0.006265  0.006556   \n",
      "CVX  -0.001989  0.006624  0.003171  0.008373  0.003266  0.004253  0.006938   \n",
      "DIS   0.007530  0.017969  0.001647  0.005077  0.000152  0.003688  0.009504   \n",
      "DOW   0.002391  0.011851  0.004428  0.002997 -0.002399  0.004214  0.012532   \n",
      "GS    0.008036  0.011672  0.002857  0.007855  0.003235  0.008038  0.010029   \n",
      "HD    0.008807  0.013859  0.004799  0.007119  0.003663  0.007949  0.005647   \n",
      "HON   0.006009  0.010476  0.007064  0.006456  0.003290  0.006513  0.006436   \n",
      "IBM   0.009543  0.000592  0.005233  0.007716 -0.002536  0.006122  0.007342   \n",
      "INTC  0.021917  0.003801  0.007018  0.000816 -0.002403  0.008650 -0.000720   \n",
      "JNJ  -0.000585  0.003635  0.005423  0.007701  0.004655  0.003483  0.005271   \n",
      "JPM   0.002772  0.005782  0.003325  0.012567  0.004097  0.006535  0.005427   \n",
      "KO    0.002285  0.008836  0.009296  0.003699  0.005396  0.004793  0.010254   \n",
      "MCD   0.003932  0.010407  0.008471  0.005980  0.006475  0.006085  0.006027   \n",
      "MMM   0.003580  0.013762  0.002081  0.009223 -0.000372  0.005293  0.009034   \n",
      "MRK   0.001101  0.011977  0.006331  0.006364  0.003250  0.005652  0.007356   \n",
      "MSFT  0.041316  0.010941  0.002521  0.002505  0.001241  0.010253 -0.001477   \n",
      "NKE   0.010941  0.118544  0.007247  0.006731 -0.005072  0.014161  0.006204   \n",
      "PG    0.002521  0.007247  0.018489  0.003674  0.005605  0.004706  0.007869   \n",
      "TRV   0.002505  0.006731  0.003674  0.034387  0.004562  0.006253  0.002514   \n",
      "UNH   0.001241 -0.005072  0.005605  0.004562  0.042871  0.001517  0.001469   \n",
      "V     0.010253  0.014161  0.004706  0.006253  0.001517  0.019006  0.003271   \n",
      "VZ   -0.001477  0.006204  0.007869  0.002514  0.001469  0.003271  0.053141   \n",
      "WMT   0.001821  0.002826  0.006787  0.005070  0.004599  0.003943  0.001634   \n",
      "\n",
      "           WMT  \n",
      "AAPL  0.001837  \n",
      "AMGN  0.005494  \n",
      "AMZN  0.005378  \n",
      "AXP   0.005672  \n",
      "BA    0.005928  \n",
      "CAT   0.001545  \n",
      "CRM   0.002387  \n",
      "CSCO  0.009078  \n",
      "CVX   0.002805  \n",
      "DIS  -0.000262  \n",
      "DOW   0.002554  \n",
      "GS    0.004109  \n",
      "HD    0.005137  \n",
      "HON   0.004517  \n",
      "IBM   0.004315  \n",
      "INTC -0.000560  \n",
      "JNJ   0.003420  \n",
      "JPM   0.002459  \n",
      "KO    0.006959  \n",
      "MCD   0.004022  \n",
      "MMM   0.004542  \n",
      "MRK   0.003981  \n",
      "MSFT  0.001821  \n",
      "NKE   0.002826  \n",
      "PG    0.006787  \n",
      "TRV   0.005070  \n",
      "UNH   0.004599  \n",
      "V     0.003943  \n",
      "VZ    0.001634  \n",
      "WMT   0.029329  \n",
      "\n",
      "[30 rows x 30 columns]\n"
     ]
    }
   ],
   "source": [
    "cov_matrix = pd.DataFrame(log_returns.cov() * 252)\n",
    "print(cov_matrix)"
   ]
  },
  {
   "cell_type": "markdown",
   "metadata": {},
   "source": [
    "7. Calculate and Plot Correlation Matrix"
   ]
  },
  {
   "cell_type": "code",
   "execution_count": 23,
   "metadata": {},
   "outputs": [
    {
     "data": {
      "image/png": "[encoded data removed]",
      "text/plain": [
       "<Figure size 1000x800 with 2 Axes>"
      ]
     },
     "metadata": {},
     "output_type": "display_data"
    }
   ],
   "source": [
    "corr_matrix = pd.DataFrame(log_returns.corr())\n",
    "\n",
    "# print(corr_matrix.to_numpy().min())\n",
    "\n",
    "from matplotlib.colors import TwoSlopeNorm\n",
    "fig = plt.figure(figsize=(10,8))  # Set aspect ratio\n",
    "# Could also define ax, if needed for any formatting...\n",
    "# ax = fig.add_subplot()\n",
    "# ... or define both fig and ax as below\n",
    "# fig, ax = plt.subplots(figsize=(10,8))\n",
    "\n",
    "vmin = -1\n",
    "vmax = 1\n",
    "eps = 0.001\n",
    "cmap = plt.cm.seismic\n",
    "shifted = False\n",
    "cmap_offset = 0.1\n",
    "\n",
    "corr_plot = plot_correlations(corr_matrix, vmin, vmax, eps, cmap, shifted, cmap_offset)\n"
   ]
  },
  {
   "cell_type": "markdown",
   "metadata": {},
   "source": [
    "8. Define Portfolio Performance Metrics"
   ]
  },
  {
   "cell_type": "markdown",
   "metadata": {},
   "source": [
    ">> a. Standard Deviation"
   ]
  },
  {
   "cell_type": "code",
   "execution_count": 10,
   "metadata": {},
   "outputs": [],
   "source": [
    "def standard_deviation (weights, cov_matrix):\n",
    "    variance = weights.T @ cov_matrix @ weights\n",
    "    return np.sqrt(variance)"
   ]
  },
  {
   "cell_type": "markdown",
   "metadata": {},
   "source": [
    ">> b. Expected Return"
   ]
  },
  {
   "cell_type": "code",
   "execution_count": 11,
   "metadata": {},
   "outputs": [],
   "source": [
    "# Assume: Expected returns are based on annualized historical returns\n",
    "def expected_return (weights, log_returns):\n",
    "    return np.sum(log_returns.mean() * weights) * 252\n"
   ]
  },
  {
   "cell_type": "markdown",
   "metadata": {},
   "source": [
    ">> c. Sharpe Ratio"
   ]
  },
  {
   "cell_type": "code",
   "execution_count": 12,
   "metadata": {},
   "outputs": [],
   "source": [
    "def sharpe_ratio (weights, cov_matrix, log_returns, risk_free_rate):\n",
    "    effective_return = expected_return(weights, cov_matrix) - risk_free_rate\n",
    "    risk_measure = standard_deviation(weights, log_returns)\n",
    "    return effective_return / risk_measure\n",
    "\n",
    "# Function to minimize using the scipy library (could also be an inverse of Sharpe ratio)\n",
    "def neg_sharpe_ratio (weights, cov_matrix, log_returns, risk_free_rate):\n",
    "    return -sharpe_ratio(weights, cov_matrix, log_returns, risk_free_rate)\n",
    "    "
   ]
  },
  {
   "cell_type": "markdown",
   "metadata": {},
   "source": [
    "9. Download Risk Free Rate"
   ]
  },
  {
   "cell_type": "code",
   "execution_count": 13,
   "metadata": {},
   "outputs": [
    {
     "name": "stderr",
     "output_type": "stream",
     "text": [
      "[*********************100%%**********************]  1 of 1 completed\n",
      "[*********************100%%**********************]  1 of 1 completed"
     ]
    },
    {
     "name": "stdout",
     "output_type": "stream",
     "text": [
      "0.0520, 0.0419\n",
      "0.0419\n"
     ]
    },
    {
     "name": "stderr",
     "output_type": "stream",
     "text": [
      "\n"
     ]
    }
   ],
   "source": [
    "# 13-week Treasury Bill rate as of today\n",
    "three_month_rate = yf.download(three_month_treasury_ticker, period='1d')['Adj Close'].values[0] / 100\n",
    "# 10-year Treasury Note rate as of today\n",
    "ten_year_rate = yf.download(ten_year_treasury_ticker, period='1d')['Adj Close'].values[0] / 100\n",
    "# Take the risk free rate as the lower of the above two\n",
    "risk_free_rate = min(three_month_rate, ten_year_rate)\n",
    "print(f'{three_month_rate:.4f}, {ten_year_rate:.4f}')\n",
    "print(f'{risk_free_rate:.4f}')"
   ]
  },
  {
   "cell_type": "code",
   "execution_count": 14,
   "metadata": {},
   "outputs": [],
   "source": [
    "n = len(tickers)\n",
    "constraints = {\n",
    "    'type': 'eq',\n",
    "    'fun': lambda weights: np.sum(weights) - 1\n",
    "}\n",
    "bounds = [(0, 0.5) for _ in range(n)]\n",
    "initial_weights = np.array([1 / n ] * n)"
   ]
  },
  {
   "cell_type": "code",
   "execution_count": 28,
   "metadata": {},
   "outputs": [
    {
     "ename": "AssertionError",
     "evalue": "category must be a class",
     "output_type": "error",
     "traceback": [
      "\u001b[1;31m---------------------------------------------------------------------------\u001b[0m",
      "\u001b[1;31mAssertionError\u001b[0m                            Traceback (most recent call last)",
      "Cell \u001b[1;32mIn[28], line 3\u001b[0m\n\u001b[0;32m      1\u001b[0m \u001b[38;5;28;01mimport\u001b[39;00m \u001b[38;5;21;01mwarnings\u001b[39;00m\n\u001b[0;32m      2\u001b[0m warnings\u001b[38;5;241m.\u001b[39mfilterwarnings(\u001b[38;5;124m\"\u001b[39m\u001b[38;5;124mignore\u001b[39m\u001b[38;5;124m\"\u001b[39m, message\u001b[38;5;241m=\u001b[39m\u001b[38;5;124m\"\u001b[39m\u001b[38;5;124mdelta_grad == 0.0. Check if the approximated function is linear.\u001b[39m\u001b[38;5;124m\"\u001b[39m)\n\u001b[1;32m----> 3\u001b[0m \u001b[43mwarnings\u001b[49m\u001b[38;5;241;43m.\u001b[39;49m\u001b[43mfilterwarnings\u001b[49m\u001b[43m(\u001b[49m\u001b[38;5;124;43m\"\u001b[39;49m\u001b[38;5;124;43mignore\u001b[39;49m\u001b[38;5;124;43m\"\u001b[39;49m\u001b[43m,\u001b[49m\u001b[43m \u001b[49m\u001b[43mcategory\u001b[49m\u001b[38;5;241;43m=\u001b[39;49m\u001b[38;5;124;43m'\u001b[39;49m\u001b[38;5;124;43mreportUndefinedVariable\u001b[39;49m\u001b[38;5;124;43m'\u001b[39;49m\u001b[43m)\u001b[49m\n",
      "File \u001b[1;32mc:\\Users\\Marek\\AppData\\Local\\Programs\\Python\\Python311\\Lib\\warnings.py:145\u001b[0m, in \u001b[0;36mfilterwarnings\u001b[1;34m(action, message, category, module, lineno, append)\u001b[0m\n\u001b[0;32m    142\u001b[0m \u001b[38;5;28;01massert\u001b[39;00m action \u001b[38;5;129;01min\u001b[39;00m (\u001b[38;5;124m\"\u001b[39m\u001b[38;5;124merror\u001b[39m\u001b[38;5;124m\"\u001b[39m, \u001b[38;5;124m\"\u001b[39m\u001b[38;5;124mignore\u001b[39m\u001b[38;5;124m\"\u001b[39m, \u001b[38;5;124m\"\u001b[39m\u001b[38;5;124malways\u001b[39m\u001b[38;5;124m\"\u001b[39m, \u001b[38;5;124m\"\u001b[39m\u001b[38;5;124mdefault\u001b[39m\u001b[38;5;124m\"\u001b[39m, \u001b[38;5;124m\"\u001b[39m\u001b[38;5;124mmodule\u001b[39m\u001b[38;5;124m\"\u001b[39m,\n\u001b[0;32m    143\u001b[0m                   \u001b[38;5;124m\"\u001b[39m\u001b[38;5;124monce\u001b[39m\u001b[38;5;124m\"\u001b[39m), \u001b[38;5;124m\"\u001b[39m\u001b[38;5;124minvalid action: \u001b[39m\u001b[38;5;132;01m%r\u001b[39;00m\u001b[38;5;124m\"\u001b[39m \u001b[38;5;241m%\u001b[39m (action,)\n\u001b[0;32m    144\u001b[0m \u001b[38;5;28;01massert\u001b[39;00m \u001b[38;5;28misinstance\u001b[39m(message, \u001b[38;5;28mstr\u001b[39m), \u001b[38;5;124m\"\u001b[39m\u001b[38;5;124mmessage must be a string\u001b[39m\u001b[38;5;124m\"\u001b[39m\n\u001b[1;32m--> 145\u001b[0m \u001b[38;5;28;01massert\u001b[39;00m \u001b[38;5;28misinstance\u001b[39m(category, \u001b[38;5;28mtype\u001b[39m), \u001b[38;5;124m\"\u001b[39m\u001b[38;5;124mcategory must be a class\u001b[39m\u001b[38;5;124m\"\u001b[39m\n\u001b[0;32m    146\u001b[0m \u001b[38;5;28;01massert\u001b[39;00m \u001b[38;5;28missubclass\u001b[39m(category, \u001b[38;5;167;01mWarning\u001b[39;00m), \u001b[38;5;124m\"\u001b[39m\u001b[38;5;124mcategory must be a Warning subclass\u001b[39m\u001b[38;5;124m\"\u001b[39m\n\u001b[0;32m    147\u001b[0m \u001b[38;5;28;01massert\u001b[39;00m \u001b[38;5;28misinstance\u001b[39m(module, \u001b[38;5;28mstr\u001b[39m), \u001b[38;5;124m\"\u001b[39m\u001b[38;5;124mmodule must be a string\u001b[39m\u001b[38;5;124m\"\u001b[39m\n",
      "\u001b[1;31mAssertionError\u001b[0m: category must be a class"
     ]
    }
   ],
   "source": [
    "import warnings\n",
    "warnings.filterwarnings(\"ignore\", message=\"delta_grad == 0.0. Check if the approximated function is linear.\")"
   ]
  },
  {
   "cell_type": "code",
   "execution_count": 27,
   "metadata": {},
   "outputs": [
    {
     "name": "stdout",
     "output_type": "stream",
     "text": [
      "SLSQP\n",
      "\tAAPL:\t0.014443\n",
      "\tAMGN:\t0.098705\n",
      "\tAMZN:\t0.063194\n",
      "\tGS:\t0.087243\n",
      "\tIBM:\t0.104097\n",
      "\tJPM:\t0.160263\n",
      "\tMRK:\t0.018837\n",
      "\tMSFT:\t0.073923\n",
      "\tTRV:\t0.067975\n",
      "\tVZ:\t0.079132\n",
      "\tWMT:\t0.232188\n",
      "\tOptimal Return:\t\t0.331767\n",
      "\tRisk Free Rate:\t\t0.041890\n",
      "\tOptimal Risk:\t\t0.101641\n",
      "\tOptimal Sharpe Ratio:\t2.851961\n"
     ]
    }
   ],
   "source": [
    "# method = 'SLSQP'\n",
    "# methods = ['Nelder-Mead', 'Powell', 'CG', 'BFGS', 'Newton-CG', 'L-BFGS-B', 'COBYLA', 'COBYQA', 'SLSQP', 'trust-constr', 'dogleg', 'trust-ncg', 'trust-exact', 'trust-krylov']\n",
    "# methods = ['Nelder-Mead', 'Powell', 'CG', 'L-BFGS-B', 'SLSQP', 'trust-constr']\n",
    "# methods = ['trust-constr', 'SLSQP']\n",
    "methods = ['SLSQP']\n",
    "for method in methods:\n",
    "    optimized_results = minimize(\n",
    "        neg_sharpe_ratio,\n",
    "        initial_weights,\n",
    "        args = (log_returns, cov_matrix, risk_free_rate),\n",
    "        method = method,\n",
    "        constraints = constraints,\n",
    "        bounds = bounds\n",
    "    )\n",
    "    optimal_weights = optimized_results.x\n",
    "    print(method)\n",
    "    for tk, wt in zip(tickers, optimal_weights):\n",
    "        total_log_return = log_returns[tk].sum()\n",
    "        # if total_log_return > 0:\n",
    "        if wt > 1e-6:\n",
    "            # print(f'\\t{tk}:\\t{total_log_return:.6f}\\t{wt:.6f}')\n",
    "            print(f'\\t{tk}:\\t{wt:.6f}')\n",
    "    optimal_portfolio_return = expected_return(optimal_weights, log_returns)\n",
    "    optimal_portfolio_risk = standard_deviation(optimal_weights, cov_matrix)\n",
    "    optimal_sharpe_ratio = sharpe_ratio(optimal_weights, log_returns, cov_matrix, risk_free_rate)\n",
    "    print(f'\\tOptimal Return:\\t\\t{optimal_portfolio_return:.6f}')\n",
    "    print(f'\\tRisk Free Rate:\\t\\t{risk_free_rate:.6f}')\n",
    "    print(f'\\tOptimal Risk:\\t\\t{optimal_portfolio_risk:.6f}')\n",
    "    print(f'\\tOptimal Sharpe Ratio:\\t{optimal_sharpe_ratio:.6f}')\n"
   ]
  },
  {
   "cell_type": "markdown",
   "metadata": {},
   "source": [
    ">>> The SLSQP method delivers a higher Sharpe Ratio than does the trust-constr method. The other methods fail on either the constraints or the bounds."
   ]
  },
  {
   "cell_type": "code",
   "execution_count": 17,
   "metadata": {},
   "outputs": [
    {
     "name": "stdout",
     "output_type": "stream",
     "text": [
      "Ticker: BTC-USD\n",
      "Description: Bitcoin (BTC) is a cryptocurrency launched in 2010. Users are able to generate BTC through the process of mining. Bitcoin has a current supply of 19,720,284. The last known price of Bitcoin is 60,247.75677676 USD and is up 3.29 over the last 24 hours. It is currently trading on 11597 active market(s) with $21,726,458,550.23 traded over the last 24 hours. More information can be found at https://bitcoin.org/.\n",
      "coinMarketCapLink: https://coinmarketcap.com/currencies/bitcoin\n",
      "\n",
      "\n",
      "Ticker: ETH-USD\n",
      "Description: Ethereum (ETH) is a cryptocurrency . Ethereum has a current supply of 120,215,726.06015156. The last known price of Ethereum is 3,214.26349575 USD and is up 2.04 over the last 24 hours. It is currently trading on 9132 active market(s) with $10,011,489,307.69 traded over the last 24 hours. More information can be found at https://www.ethereum.org/.\n",
      "coinMarketCapLink: https://coinmarketcap.com/currencies/ethereum\n",
      "\n",
      "\n",
      "Ticker: USDT-USD\n",
      "Description: Tether USDt (USDT) is a cryptocurrency and operates on the Ethereum platform. Tether USDt has a current supply of 116,072,162,582.33752 with 112,466,925,458.78345 in circulation. The last known price of Tether USDt is 1.00037699 USD and is up 0.02 over the last 24 hours. It is currently trading on 91522 active market(s) with $40,587,917,101.08 traded over the last 24 hours. More information can be found at https://tether.to.\n",
      "coinMarketCapLink: https://coinmarketcap.com/currencies/tether\n",
      "\n",
      "\n",
      "Ticker: BNB-USD\n",
      "Description: BNB (BNB) is a cryptocurrency . BNB has a current supply of 147,582,290.05857602. The last known price of BNB is 539.34088065 USD and is up 0.39 over the last 24 hours. It is currently trading on 2192 active market(s) with $1,531,266,300.15 traded over the last 24 hours. More information can be found at https://bnbchain.org/en.\n",
      "coinMarketCapLink: https://coinmarketcap.com/currencies/bnb\n",
      "\n",
      "\n",
      "Ticker: SOL-USD\n",
      "Description: Solana (SOL) is a cryptocurrency launched in 2020. Solana has a current supply of 580,143,029.7028116 with 464,063,079.4941362 in circulation. The last known price of Solana is 146.87280305 USD and is up 5.01 over the last 24 hours. It is currently trading on 701 active market(s) with $1,735,567,037.33 traded over the last 24 hours. More information can be found at https://solana.com.\n",
      "coinMarketCapLink: https://coinmarketcap.com/currencies/solana\n",
      "\n",
      "\n",
      "Ticker: USDC-USD\n",
      "Description: USDC (USDC) is a cryptocurrency and operates on the Ethereum platform. USDC has a current supply of 33,974,063,026.99749. The last known price of USDC is 1.00000992 USD and is up 0.00 over the last 24 hours. It is currently trading on 20947 active market(s) with $3,977,345,415.61 traded over the last 24 hours. More information can be found at https://www.centre.io/usdc.\n",
      "coinMarketCapLink: https://coinmarketcap.com/currencies/usd-coin\n",
      "\n",
      "\n",
      "Ticker: XRP-USD\n",
      "Description: XRP (XRP) is a cryptocurrency . XRP has a current supply of 99,987,452,475 with 55,805,339,473 in circulation. The last known price of XRP is 0.53083507 USD and is up 3.01 over the last 24 hours. It is currently trading on 1352 active market(s) with $2,674,172,928.25 traded over the last 24 hours. More information can be found at https://xrpl.org/.\n",
      "coinMarketCapLink: https://coinmarketcap.com/currencies/xrp\n",
      "\n",
      "\n",
      "Ticker: TON-USD\n",
      "Description: Tokamak Network (TON) is a cryptocurrency launched in 2017and operates on the Ethereum platform. Tokamak Network has a current supply of 62,739,955 with 43,841,454 in circulation. The last known price of Tokamak Network is 1.16718797 USD and is up 0.50 over the last 24 hours. It is currently trading on 23 active market(s) with $1,097,047.85 traded over the last 24 hours. More information can be found at https://tokamak.network/.\n",
      "coinMarketCapLink: https://coinmarketcap.com/currencies/tokamak-network\n",
      "\n",
      "\n",
      "Ticker: DOGE-USD\n",
      "Description: Dogecoin (DOGE) is a cryptocurrency . Users are able to generate DOGE through the process of mining. Dogecoin has a current supply of 145,110,166,383.7052. The last known price of Dogecoin is 0.11393376 USD and is up 4.07 over the last 24 hours. It is currently trading on 1021 active market(s) with $599,001,266.16 traded over the last 24 hours. More information can be found at http://dogecoin.com/.\n",
      "coinMarketCapLink: https://coinmarketcap.com/currencies/dogecoin\n",
      "\n",
      "\n",
      "Ticker: ADA-USD\n",
      "Description: Cardano (ADA) is a cryptocurrency launched in 2017. Cardano has a current supply of 37,048,613,783.371 with 35,881,024,648.343 in circulation. The last known price of Cardano is 0.43575583 USD and is up 3.20 over the last 24 hours. It is currently trading on 1212 active market(s) with $401,771,085.08 traded over the last 24 hours. More information can be found at https://www.cardano.org.\n",
      "coinMarketCapLink: https://coinmarketcap.com/currencies/cardano\n",
      "\n",
      "\n",
      "Ticker: TRX-USD\n",
      "Description: TRON (TRX) is a cryptocurrency . TRON has a current supply of 87,126,909,995.45912 with 87,126,881,027.49533 in circulation. The last known price of TRON is 0.13838652 USD and is down -1.13 over the last 24 hours. It is currently trading on 999 active market(s) with $338,601,922.63 traded over the last 24 hours. More information can be found at https://trondao.org/.\n",
      "coinMarketCapLink: https://coinmarketcap.com/currencies/tron\n",
      "\n",
      "\n",
      "Ticker: AVAX-USD\n",
      "Description: Avalanche (AVAX) is a cryptocurrency launched in 2020. Avalanche has a current supply of 443,833,530.7871516 with 394,487,160.7871516 in circulation. The last known price of Avalanche is 26.29631554 USD and is up 0.91 over the last 24 hours. It is currently trading on 751 active market(s) with $290,019,942.23 traded over the last 24 hours. More information can be found at https://avax.network/.\n",
      "coinMarketCapLink: https://coinmarketcap.com/currencies/avalanche\n",
      "\n",
      "\n",
      "Ticker: SHIB-USD\n",
      "Description: Shiba Inu (SHIB) is a cryptocurrency and operates on the Ethereum platform. Shiba Inu has a current supply of 589,519,213,781,810.1 with 589,270,745,177,744.5 in circulation. The last known price of Shiba Inu is 0.00001745 USD and is up 2.96 over the last 24 hours. It is currently trading on 844 active market(s) with $262,018,846.08 traded over the last 24 hours. More information can be found at https://shibatoken.com/.\n",
      "coinMarketCapLink: https://coinmarketcap.com/currencies/shiba-inu\n",
      "\n",
      "\n",
      "Ticker: DOT-USD\n",
      "Description: Polkadot (DOT) is a cryptocurrency . Polkadot has a current supply of 1,437,953,431.368154. The last known price of Polkadot is 6.28886115 USD and is up 0.80 over the last 24 hours. It is currently trading on 792 active market(s) with $126,111,409.82 traded over the last 24 hours. More information can be found at https://polkadot.network/.\n",
      "coinMarketCapLink: https://coinmarketcap.com/currencies/polkadot-new\n",
      "\n",
      "\n",
      "Ticker: LINK-USD\n",
      "Description: Chainlink (LINK) is a cryptocurrency and operates on the Ethereum platform. Chainlink has a current supply of 1,000,000,000 with 608,099,970.4527867 in circulation. The last known price of Chainlink is 13.22097446 USD and is up 1.57 over the last 24 hours. It is currently trading on 1814 active market(s) with $262,590,017.75 traded over the last 24 hours. More information can be found at https://chain.link/.\n",
      "coinMarketCapLink: https://coinmarketcap.com/currencies/chainlink\n",
      "\n",
      "\n",
      "Ticker: BCH-USD\n",
      "Description: Bitcoin Cash (BCH) is a cryptocurrency . Users are able to generate BCH through the process of mining. Bitcoin Cash has a current supply of 19,732,706.25. The last known price of Bitcoin Cash is 381.93965027 USD and is up 1.18 over the last 24 hours. It is currently trading on 903 active market(s) with $269,332,068.99 traded over the last 24 hours. More information can be found at http://bch.info.\n",
      "coinMarketCapLink: https://coinmarketcap.com/currencies/bitcoin-cash\n",
      "\n",
      "\n",
      "Ticker: DAI-USD\n",
      "Description: Dai (DAI) is a cryptocurrency and operates on the Ethereum platform. Dai has a current supply of 5,347,888,595.7464075. The last known price of Dai is 1.00022978 USD and is up 0.00 over the last 24 hours. It is currently trading on 3340 active market(s) with $110,292,166.78 traded over the last 24 hours. More information can be found at https://makerdao.com/.\n",
      "coinMarketCapLink: https://coinmarketcap.com/currencies/multi-collateral-dai\n",
      "\n",
      "\n",
      "Ticker: LEO-USD\n",
      "Description: UNUS SED LEO (LEO) is a cryptocurrency and operates on the Ethereum platform. UNUS SED LEO has a current supply of 985,239,504 with 925,998,754.9 in circulation. The last known price of UNUS SED LEO is 5.78531532 USD and is up 0.63 over the last 24 hours. It is currently trading on 48 active market(s) with $360,599.17 traded over the last 24 hours. More information can be found at https://www.bitfinex.com/.\n",
      "coinMarketCapLink: https://coinmarketcap.com/currencies/unus-sed-leo\n",
      "\n",
      "\n",
      "Ticker: NEAR-USD\n",
      "Description: NEAR Protocol (NEAR) is a cryptocurrency launched in 2020. NEAR Protocol has a current supply of 1,200,338,145 with 1,101,812,375 in circulation. The last known price of NEAR Protocol is 5.47279125 USD and is up 5.75 over the last 24 hours. It is currently trading on 426 active market(s) with $212,937,276.07 traded over the last 24 hours. More information can be found at https://near.org/.\n",
      "coinMarketCapLink: https://coinmarketcap.com/currencies/near-protocol\n",
      "\n",
      "\n",
      "Ticker: MATIC-USD\n",
      "Description: Polygon (MATIC) is a cryptocurrency . Polygon has a current supply of 10,000,000,000 with 9,893,920,522.301964 in circulation. The last known price of Polygon is 0.52865013 USD and is up 2.27 over the last 24 hours. It is currently trading on 1415 active market(s) with $191,553,803.86 traded over the last 24 hours. More information can be found at https://polygon.technology/.\n",
      "coinMarketCapLink: https://coinmarketcap.com/currencies/polygon\n",
      "\n",
      "\n",
      "Ticker: UNI7083-USD\n",
      "Description: Uniswap (UNI) is a cryptocurrency launched in 2020and operates on the Ethereum platform. Uniswap has a current supply of 1,000,000,000 with 600,034,294.71 in circulation. The last known price of Uniswap is 8.41771228 USD and is up 2.90 over the last 24 hours. It is currently trading on 1061 active market(s) with $119,104,469.22 traded over the last 24 hours. More information can be found at https://uniswap.org/blog/uni/.\n",
      "coinMarketCapLink: https://coinmarketcap.com/currencies/uniswap\n",
      "\n",
      "\n",
      "Ticker: LTC-USD\n",
      "Description: Litecoin (LTC) is a cryptocurrency . Users are able to generate LTC through the process of mining. Litecoin has a current supply of 84,000,000 with 74,748,531.1075049 in circulation. The last known price of Litecoin is 70.26703838 USD and is down -0.39 over the last 24 hours. It is currently trading on 1208 active market(s) with $243,986,033.26 traded over the last 24 hours. More information can be found at https://litecoin.org/.\n",
      "coinMarketCapLink: https://coinmarketcap.com/currencies/litecoin\n",
      "\n",
      "\n",
      "Ticker: KAS-USD\n",
      "Description: Kaspa (KAS) is a cryptocurrency launched in 2021. Users are able to generate KAS through the process of mining. Kaspa has a current supply of 24,186,030,221.041794 with 24,186,043,826.775074 in circulation. The last known price of Kaspa is 0.17049036 USD and is up 1.64 over the last 24 hours. It is currently trading on 123 active market(s) with $35,129,212.43 traded over the last 24 hours. More information can be found at https://www.kaspa.org.\n",
      "coinMarketCapLink: https://coinmarketcap.com/currencies/kaspa\n",
      "\n",
      "\n",
      "Ticker: PEPE24478-USD\n",
      "Description: Pepe (PEPE) is a cryptocurrency launched in 2023and operates on the Ethereum platform. Pepe has a current supply of 420,689,899,999,994.8. The last known price of Pepe is 0.0000091 USD and is up 3.29 over the last 24 hours. It is currently trading on 418 active market(s) with $520,228,404.68 traded over the last 24 hours. More information can be found at https://www.pepe.vip/.\n",
      "coinMarketCapLink: https://coinmarketcap.com/currencies/pepe\n",
      "\n",
      "\n",
      "Ticker: ICP-USD\n",
      "Description: Internet Computer (ICP) is a cryptocurrency launched in 2021. Internet Computer has a current supply of 520,650,008.34550214 with 466,160,669.4795259 in circulation. The last known price of Internet Computer is 8.9312296 USD and is up 11.53 over the last 24 hours. It is currently trading on 275 active market(s) with $135,670,102.38 traded over the last 24 hours. More information can be found at https://internetcomputer.org/.\n",
      "coinMarketCapLink: https://coinmarketcap.com/currencies/internet-computer\n",
      "\n",
      "\n",
      "Ticker: ETC-USD\n",
      "Description: Ethereum Classic (ETC) is a cryptocurrency launched in 2015. Users are able to generate ETC through the process of mining. Ethereum Classic has a current supply of 210,700,000 with 147,918,495.51234093 in circulation. The last known price of Ethereum Classic is 22.4745642 USD and is up 2.93 over the last 24 hours. It is currently trading on 545 active market(s) with $155,900,473.41 traded over the last 24 hours. More information can be found at https://ethereumclassic.org/.\n",
      "coinMarketCapLink: https://coinmarketcap.com/currencies/ethereum-classic\n",
      "\n",
      "\n",
      "Ticker: FET-USD\n",
      "Description: Artificial Superintelligence Alliance (FET) is a cryptocurrency launched in 2018. Artificial Superintelligence Alliance has a current supply of 2,630,547,141 with 2,520,000,000 in circulation. The last known price of Artificial Superintelligence Alliance is 1.22100991 USD and is up 3.82 over the last 24 hours. It is currently trading on 336 active market(s) with $85,923,724.65 traded over the last 24 hours. More information can be found at https://fetch.ai/.\n",
      "coinMarketCapLink: https://coinmarketcap.com/currencies/fetch\n",
      "\n",
      "\n",
      "Ticker: XMR-USD\n",
      "Description: Monero (XMR) is a cryptocurrency . Users are able to generate XMR through the process of mining. Monero has a current supply of 18,446,744.07370955. The last known price of Monero is 157.22938885 USD and is down -2.62 over the last 24 hours. It is currently trading on 286 active market(s) with $52,711,873.73 traded over the last 24 hours. More information can be found at https://www.getmonero.org/.\n",
      "coinMarketCapLink: https://coinmarketcap.com/currencies/monero\n",
      "\n",
      "\n",
      "Ticker: APT-USD\n",
      "Description: Apricot Finance (APT) is a cryptocurrency and operates on the Solana platform. Apricot Finance has a current supply of 1,000,000,000 with 0 in circulation. The last known price of Apricot Finance is 0.00055286 USD and is down -6.06 over the last 24 hours. It is currently trading on 9 active market(s) with $852.95 traded over the last 24 hours. More information can be found at https://apricot.one/.\n",
      "coinMarketCapLink: https://coinmarketcap.com/currencies/apricot\n",
      "\n",
      "\n",
      "Ticker: XLM-USD\n",
      "Description: Stellar (XLM) is a cryptocurrency . Stellar has a current supply of 50,001,786,963.71094 with 29,228,888,357.055305 in circulation. The last known price of Stellar is 0.10364945 USD and is up 0.64 over the last 24 hours. It is currently trading on 602 active market(s) with $153,366,627.17 traded over the last 24 hours. More information can be found at https://www.stellar.org.\n",
      "coinMarketCapLink: https://coinmarketcap.com/currencies/stellar\n",
      "\n",
      "\n",
      "Ticker: RNDR-USD\n",
      "Description: Render (RNDR) is a cryptocurrency launched in 2019and operates on the Ethereum platform. Render has a current supply of 532,219,654.73549163 with 390,859,381.4554916 in circulation. The last known price of Render is 6.23670875 USD and is up 0.94 over the last 24 hours. It is currently trading on 439 active market(s) with $99,559,387.12 traded over the last 24 hours. More information can be found at https://rendernetwork.com/.\n",
      "coinMarketCapLink: https://coinmarketcap.com/currencies/render\n",
      "\n",
      "\n",
      "Ticker: HBAR-USD\n",
      "Description: Hedera (HBAR) is a cryptocurrency launched in 2017. Hedera has a current supply of 50,000,000,000 with 35,781,141,692.81002 in circulation. The last known price of Hedera is 0.07096408 USD and is up 4.28 over the last 24 hours. It is currently trading on 276 active market(s) with $46,790,607.70 traded over the last 24 hours. More information can be found at https://www.hedera.com/.\n",
      "coinMarketCapLink: https://coinmarketcap.com/currencies/hedera\n",
      "\n",
      "\n",
      "Ticker: ATOM-USD\n",
      "Description: Cosmos (ATOM) is a cryptocurrency . Cosmos has a current supply of 390,930,671. The last known price of Cosmos is 6.19109295 USD and is down -0.66 over the last 24 hours. It is currently trading on 790 active market(s) with $79,348,331.81 traded over the last 24 hours. More information can be found at https://cosmos.network/.\n",
      "coinMarketCapLink: https://coinmarketcap.com/currencies/cosmos\n",
      "\n",
      "\n",
      "Ticker: CRO-USD\n",
      "Description: Cronos (CRO) is a cryptocurrency . Cronos has a current supply of 30,000,000,000 with 26,571,560,696 in circulation. The last known price of Cronos is 0.0930417 USD and is up 4.19 over the last 24 hours. It is currently trading on 244 active market(s) with $6,573,376.91 traded over the last 24 hours. More information can be found at https://cronos.org/.\n",
      "coinMarketCapLink: https://coinmarketcap.com/currencies/cronos\n",
      "\n",
      "\n",
      "Ticker: OKB-USD\n",
      "Description: OKB (OKB) is a cryptocurrency and operates on the Ethereum platform. OKB has a current supply of 300,000,000 with 60,000,000 in circulation. The last known price of OKB is 40.19810112 USD and is up 3.98 over the last 24 hours. It is currently trading on 125 active market(s) with $3,520,329.50 traded over the last 24 hours. More information can be found at https://www.okx.com/.\n",
      "coinMarketCapLink: https://coinmarketcap.com/currencies/okb\n",
      "\n",
      "\n",
      "Ticker: FIL-USD\n",
      "Description: Filecoin (FIL) is a cryptocurrency launched in 2020. Users are able to generate FIL through the process of mining. Filecoin has a current supply of 1,960,144,162 with 570,879,646 in circulation. The last known price of Filecoin is 4.27868187 USD and is up 1.18 over the last 24 hours. It is currently trading on 498 active market(s) with $108,564,656.08 traded over the last 24 hours. More information can be found at https://filecoin.io/.\n",
      "coinMarketCapLink: https://coinmarketcap.com/currencies/filecoin\n",
      "\n",
      "\n",
      "Ticker: ARB11841-USD\n",
      "Description: Arbitrum (ARB) is a cryptocurrency launched in 2023and operates on the Arbitrum platform. Arbitrum has a current supply of 10,000,000,000 with 3,231,588,116 in circulation. The last known price of Arbitrum is 0.71479033 USD and is up 1.42 over the last 24 hours. It is currently trading on 959 active market(s) with $142,561,369.49 traded over the last 24 hours. More information can be found at https://arbitrum.foundation.\n",
      "coinMarketCapLink: https://coinmarketcap.com/currencies/arbitrum\n",
      "\n",
      "\n",
      "Ticker: MNT27075-USD\n",
      "Description: Mantle (MNT) is a cryptocurrency and operates on the Ethereum platform. Mantle has a current supply of 6,219,316,794.99 with 3,266,841,707.8368406 in circulation. The last known price of Mantle is 0.72279271 USD and is up 2.77 over the last 24 hours. It is currently trading on 84 active market(s) with $175,443,809.23 traded over the last 24 hours. More information can be found at https://www.mantle.xyz/.\n",
      "coinMarketCapLink: https://coinmarketcap.com/currencies/mantle\n",
      "\n",
      "\n",
      "Ticker: MKR-USD\n",
      "Description: Maker (MKR) is a cryptocurrency and operates on the Ethereum platform. Maker has a current supply of 977,631.03695089 with 930,158.70871668 in circulation. The last known price of Maker is 2,798.59504673 USD and is up 5.55 over the last 24 hours. It is currently trading on 488 active market(s) with $114,262,275.62 traded over the last 24 hours. More information can be found at https://makerdao.com/.\n",
      "coinMarketCapLink: https://coinmarketcap.com/currencies/maker\n",
      "\n",
      "\n",
      "Ticker: STX4847-USD\n",
      "Description: Stacks (STX) is a cryptocurrency . Users are able to generate STX through the process of mining. Stacks has a current supply of 1,818,000,000 with 1,474,202,646.174403 in circulation. The last known price of Stacks is 1.68584327 USD and is up 0.17 over the last 24 hours. It is currently trading on 183 active market(s) with $87,647,593.19 traded over the last 24 hours. More information can be found at https://stacks.co.\n",
      "coinMarketCapLink: https://coinmarketcap.com/currencies/stacks\n",
      "\n",
      "\n",
      "Ticker: FDUSD-USD\n",
      "Description: First Digital USD (FDUSD) is a cryptocurrency launched in 2023and operates on the Ethereum platform. First Digital USD has a current supply of 1,930,257,878.16. The last known price of First Digital USD is 1.00065209 USD and is up 0.08 over the last 24 hours. It is currently trading on 326 active market(s) with $2,213,051,871.00 traded over the last 24 hours. More information can be found at https://firstdigitallabs.com/.\n",
      "coinMarketCapLink: https://coinmarketcap.com/currencies/first-digital-usd\n",
      "\n",
      "\n",
      "Ticker: VET-USD\n",
      "Description: VeChain (VET) is a cryptocurrency . VeChain has a current supply of 85,985,041,177 with 80,985,041,177 in circulation. The last known price of VeChain is 0.02897568 USD and is up 4.78 over the last 24 hours. It is currently trading on 290 active market(s) with $40,785,533.34 traded over the last 24 hours. More information can be found at https://www.vechain.org/.\n",
      "coinMarketCapLink: https://coinmarketcap.com/currencies/vechain\n",
      "\n",
      "\n",
      "Ticker: IMX10603-USD\n",
      "Description: Immutable (IMX) is a cryptocurrency launched in 2021and operates on the Ethereum platform. Immutable has a current supply of 2,000,000,000 with 1,540,350,203.3898141 in circulation. The last known price of Immutable is 1.36407938 USD and is up 0.71 over the last 24 hours. It is currently trading on 297 active market(s) with $45,678,211.88 traded over the last 24 hours. More information can be found at https://www.immutable.com/.\n",
      "coinMarketCapLink: https://coinmarketcap.com/currencies/immutable-x\n",
      "\n",
      "\n",
      "Ticker: INJ-USD\n",
      "Description: Injective (INJ) is a cryptocurrency and operates on the Ethereum platform. Injective has a current supply of 100,000,000 with 93,400,000 in circulation. The last known price of Injective is 20.83120979 USD and is up 2.86 over the last 24 hours. It is currently trading on 389 active market(s) with $68,719,445.39 traded over the last 24 hours. More information can be found at https://injective.com.\n",
      "coinMarketCapLink: https://coinmarketcap.com/currencies/injective\n",
      "\n",
      "\n",
      "Ticker: SUI20947-USD\n",
      "Description: Sui (SUI) is a cryptocurrency . Sui has a current supply of 10,000,000,000 with 2,512,208,503.6838884 in circulation. The last known price of Sui is 0.80700454 USD and is up 7.24 over the last 24 hours. It is currently trading on 273 active market(s) with $106,854,822.06 traded over the last 24 hours. More information can be found at https://sui.io/#.\n",
      "coinMarketCapLink: https://coinmarketcap.com/currencies/sui\n",
      "\n",
      "\n",
      "Ticker: WIF-USD\n",
      "Description: dogwifhat (WIF) is a cryptocurrency and operates on the Solana platform. dogwifhat has a current supply of 998,845,735.820919. The last known price of dogwifhat is 1.74743187 USD and is up 9.67 over the last 24 hours. It is currently trading on 439 active market(s) with $256,373,723.49 traded over the last 24 hours. More information can be found at https://dogwifcoin.org/.\n",
      "coinMarketCapLink: https://coinmarketcap.com/currencies/dogwifhat\n",
      "\n",
      "\n",
      "Ticker: GRT6719-USD\n",
      "Description: The Graph (GRT) is a cryptocurrency launched in 2018and operates on the Ethereum platform. The Graph has a current supply of 10,799,706,720.163599 with 9,548,531,509.165474 in circulation. The last known price of The Graph is 0.19229478 USD and is up 2.66 over the last 24 hours. It is currently trading on 487 active market(s) with $41,631,216.32 traded over the last 24 hours. More information can be found at https://thegraph.com.\n",
      "coinMarketCapLink: https://coinmarketcap.com/currencies/the-graph\n",
      "\n",
      "\n",
      "Ticker: NOT-USD\n",
      "Description: Notcoin (NOT) is a cryptocurrency launched in 2023and operates on the TON platform. Notcoin has a current supply of 102,491,027,111.69781. The last known price of Notcoin is 0.01535357 USD and is up 1.13 over the last 24 hours. It is currently trading on 130 active market(s) with $243,043,033.92 traded over the last 24 hours. More information can be found at https://notco.in/.\n",
      "coinMarketCapLink: https://coinmarketcap.com/currencies/notcoin\n",
      "\n",
      "\n",
      "Ticker: TAO22974-USD\n",
      "Description: Bittensor (TAO) is a cryptocurrency launched in 2021. Bittensor has a current supply of 7,072,411. The last known price of Bittensor is 273.60287494 USD and is up 10.66 over the last 24 hours. It is currently trading on 74 active market(s) with $37,604,218.86 traded over the last 24 hours. More information can be found at https://bittensor.com.\n",
      "coinMarketCapLink: https://coinmarketcap.com/currencies/bittensor\n",
      "\n",
      "\n",
      "Ticker: OP-USD\n",
      "Description: Optimism (OP) is a cryptocurrency and operates on the Optimism platform. Optimism has a current supply of 4,294,967,296 with 1,121,728,540 in circulation. The last known price of Optimism is 1.72824048 USD and is down -0.01 over the last 24 hours. It is currently trading on 549 active market(s) with $154,969,111.35 traded over the last 24 hours. More information can be found at https://www.optimism.io/.\n",
      "coinMarketCapLink: https://coinmarketcap.com/currencies/optimism-ethereum\n",
      "\n",
      "\n"
     ]
    }
   ],
   "source": [
    "for tk in crypto_tickers:\n",
    "    tk_desc = yf.Ticker(tk).info['description']\n",
    "    tk_cmc_link = yf.Ticker(tk).info['coinMarketCapLink']\n",
    "    print(f'Ticker: {tk}\\nDescription: {tk_desc}\\ncoinMarketCapLink: {tk_cmc_link}\\n\\n')"
   ]
  },
  {
   "cell_type": "code",
   "execution_count": 18,
   "metadata": {},
   "outputs": [
    {
     "name": "stderr",
     "output_type": "stream",
     "text": [
      "[*********************100%%**********************]  1 of 1 completed\n"
     ]
    },
    {
     "name": "stdout",
     "output_type": "stream",
     "text": [
      "3533\n",
      "averageVolume: 97453646\n",
      "averageVolume10days: 158059170\n",
      "averageDailyVolume10Day: 158059170\n",
      "ave_vol: 97453646\n",
      "ave_vol_10d: 158059170\n"
     ]
    }
   ],
   "source": [
    "tk = 'TSLA'\n",
    "# tk_data = yf.download(tk, start=start_date, end=end_date)\n",
    "tk_data = yf.download(tk)\n",
    "print(len(tk_data))\n",
    "\n",
    "tk_info = yf.Ticker(tk).info\n",
    "vol_keys = ['averageVolume', 'averageVolume10days', 'averageDailyVolume10Day']\n",
    "for key in vol_keys:\n",
    "    print(f'{key}: {tk_info[key]}')\n",
    "\n",
    "# The ave_vol variable refers to a prior period of 62 business days\n",
    "ave_vol = tk_info['averageVolume'] \n",
    "print(f'ave_vol: {ave_vol}')\n",
    "\n",
    "# The ave_vol_10d variable refers to a prior period of 10 business days\n",
    "# It appears to have the same value as tk_info['averageDailyVolume10Day']\n",
    "ave_vol_10d = tk_info['averageVolume10days'] \n",
    "print(f'ave_vol_10d: {ave_vol_10d}')\n",
    "\n",
    "for j in range(2):\n",
    "    j10 = j + 10\n",
    "    tk_data_10mean = tk_data[-j10: -j]['Volume'].mean()\n",
    "    if abs(tk_data_10mean / ave_vol_10d - 1) < 1e-6:\n",
    "        print(tk_data_10mean)\n",
    "\n",
    "n = len(tk_data)\n",
    "for i in range(n):\n",
    "    tk_data_mean = tk_data[-i: -1]['Volume'].mean()\n",
    "    if abs(tk_data_mean / ave_vol - 1) < 1e-6:\n",
    "        print(f\"{i}:\\t{tk_data_mean}\")"
   ]
  },
  {
   "cell_type": "code",
   "execution_count": 19,
   "metadata": {},
   "outputs": [
    {
     "name": "stderr",
     "output_type": "stream",
     "text": [
      "[*********************100%%**********************]  1 of 1 completed"
     ]
    },
    {
     "name": "stdout",
     "output_type": "stream",
     "text": [
      "                 DJIA\n",
      "Date                 \n",
      "2023-07-14  20.838472\n",
      "2023-07-17  20.847839\n",
      "2023-07-18  20.875938\n",
      "2023-07-19  20.904030\n",
      "2023-07-20  20.997688\n",
      "...               ...\n",
      "2024-07-08  22.290001\n",
      "2024-07-09  22.280001\n",
      "2024-07-10  22.275000\n",
      "2024-07-11  22.330000\n",
      "2024-07-12  22.430000\n",
      "\n",
      "[251 rows x 1 columns]\n"
     ]
    },
    {
     "name": "stderr",
     "output_type": "stream",
     "text": [
      "\n"
     ]
    }
   ],
   "source": [
    "df_adj_close_djia = pd.DataFrame()\n",
    "tk = 'DJIA'\n",
    "data_djia = yf.download(tk, start=start_date, end=end_date)\n",
    "df_adj_close_djia[tk] = data_djia['Adj Close']\n",
    "df_adj_close_djia = df_adj_close_djia.dropna()\n",
    "print(df_adj_close_djia)"
   ]
  },
  {
   "cell_type": "code",
   "execution_count": 20,
   "metadata": {},
   "outputs": [
    {
     "name": "stdout",
     "output_type": "stream",
     "text": [
      "                DJIA\n",
      "Date                \n",
      "2023-07-17  0.000449\n",
      "2023-07-18  0.001347\n",
      "2023-07-19  0.001345\n",
      "2023-07-20  0.004470\n",
      "2023-07-21 -0.001339\n",
      "...              ...\n",
      "2024-07-08  0.002695\n",
      "2024-07-09 -0.000449\n",
      "2024-07-10 -0.000224\n",
      "2024-07-11  0.002466\n",
      "2024-07-12  0.004468\n",
      "\n",
      "[250 rows x 1 columns]\n"
     ]
    }
   ],
   "source": [
    "log_returns_djia = pd.DataFrame(np.log(df_adj_close_djia / df_adj_close_djia.shift(1))).dropna()\n",
    "print(log_returns_djia)"
   ]
  },
  {
   "cell_type": "code",
   "execution_count": 21,
   "metadata": {},
   "outputs": [
    {
     "name": "stdout",
     "output_type": "stream",
     "text": [
      "          DJIA\n",
      "DJIA  0.073192\n",
      "0.0741872385056979\n",
      "          DJIA\n",
      "DJIA  0.441269\n"
     ]
    }
   ],
   "source": [
    "st_dev_djia = np.sqrt(log_returns_djia.cov() * 252)\n",
    "print(st_dev_djia)\n",
    "expected_return_djia = np.sum(log_returns_djia.mean()) * 252\n",
    "print(expected_return_djia)\n",
    "eff_return_djia = expected_return_djia - risk_free_rate\n",
    "sharpe_ratio_djia = eff_return_djia / st_dev_djia\n",
    "print(sharpe_ratio_djia)"
   ]
  },
  {
   "cell_type": "code",
   "execution_count": null,
   "metadata": {},
   "outputs": [],
   "source": []
  }
 ],
 "metadata": {
  "kernelspec": {
   "display_name": "Python 3",
   "language": "python",
   "name": "python3"
  },
  "language_info": {
   "codemirror_mode": {
    "name": "ipython",
    "version": 3
   },
   "file_extension": ".py",
   "mimetype": "text/x-python",
   "name": "python",
   "nbconvert_exporter": "python",
   "pygments_lexer": "ipython3",
   "version": "3.11.2"
  }
 },
 "nbformat": 4,
 "nbformat_minor": 2
}
