{
 "cells": [
  {
   "cell_type": "code",
   "execution_count": 2,
   "metadata": {},
   "outputs": [],
   "source": [
    "import pandas as pd\n",
    "import requests\n",
    "from bs4 import BeautifulSoup\n",
    "import json\n",
    "import os\n",
    "from convert_date import *"
   ]
  },
  {
   "cell_type": "code",
   "execution_count": null,
   "metadata": {},
   "outputs": [],
   "source": [
    "# s = requests.Session()\n",
    "# s.headers.update({\n",
    "#    \"Accept-Language\": \"en-US,en;q=0.9\", \n",
    "#    \"Accept-Encoding\": \"gzip, deflate, br\",\n",
    "#    \"User-Agent\": \"Java-http-client/\"\n",
    "# })\n",
    "# r = s.get(\"https://www.nasdaq.com/market-activity/quotes/nasdaq-ndx-index\")\n",
    "# soup = BeautifulSoup(r.content, \"html.parser\")\n",
    "# res = json.loads([x for x in soup.find(\"script\", {\"type\": \"application/json\"})][0])"
   ]
  },
  {
   "cell_type": "code",
   "execution_count": 4,
   "metadata": {},
   "outputs": [],
   "source": [
    "# headers = {\"user-agent\": \"Mozilla/5.0 (Windows NT 10.0; Win64; x64) AppleWebKit/537.36 (KHTML, like Gecko) Chrome/92.0.4515.107 Safari/537.36\"}\n",
    "\n",
    "s = requests.Session()\n",
    "#headers = {'user-agent': 'Chrome/126.0.6478.127 Edge/126.0.2592.87', 'type': 'application/json'}\n",
    "\n",
    "headers = {'type': 'application/json'}\n",
    "res = s.get(\"https://api.nasdaq.com/api/quote/list-type/nasdaq100\", headers=headers)\n",
    "\n",
    "if res.status_code == 200:\n",
    "\n",
    "    main_data = res.json()['data']['data']['rows']\n",
    "    df_index = range(len(main_data))\n",
    "    \n",
    "    df_data = pd.DataFrame(columns=['Symbol', 'Company Name', 'Market Cap'], index=df_index)\n",
    "    for i in df_index:\n",
    "        md = main_data[i]\n",
    "        df_data.loc[i, 'Symbol'] = md['symbol']\n",
    "        df_data.loc[i, 'Company Name'] = md['companyName']\n",
    "        df_data.loc[i, 'Market Cap'] = md['marketCap']\n",
    "    \n",
    "    print(df_data)\n",
    "# print(md['symbol'], md['companyName'], md['marketCap'])"
   ]
  },
  {
   "cell_type": "code",
   "execution_count": 12,
   "metadata": {},
   "outputs": [
    {
     "name": "stdout",
     "output_type": "stream",
     "text": [
      "   Symbol                                     Company Name         Market Cap\n",
      "76   META        Meta Platforms, Inc. Class A Common Stock  1,280,645,382,352\n",
      "77   PANW            Palo Alto Networks, Inc. Common Stock    108,443,696,100\n",
      "5    KLAC                     KLA Corporation Common Stock    117,341,410,096\n",
      "45    ADI                Analog Devices, Inc. Common Stock    118,754,618,217\n",
      "18   REGN     Regeneron Pharmaceuticals, Inc. Common Stock    121,141,247,563\n",
      "..    ...                                              ...                ...\n",
      "60    WBA      Walgreens Boots Alliance, Inc. Common Stock      9,906,081,050\n",
      "91   CRWD  CrowdStrike Holdings, Inc. Class A Common Stock     90,070,206,100\n",
      "25   SNPS                      Synopsys, Inc. Common Stock     94,250,879,609\n",
      "93   ABNB                Airbnb, Inc. Class A Common Stock     94,771,047,377\n",
      "48    ADP     Automatic Data Processing, Inc. Common Stock     97,401,104,733\n",
      "\n",
      "[101 rows x 3 columns]\n"
     ]
    }
   ],
   "source": [
    "print(df_data.sort_values(['Market Cap']))"
   ]
  },
  {
   "cell_type": "code",
   "execution_count": 2,
   "metadata": {},
   "outputs": [],
   "source": [
    "aapl_json = {\"symbol\":\"AAPL\",\"sector\":\"\",\"companyName\":\"Apple Inc. Common Stock\",\"marketCap\":\"3,548,766,597,260\",\"lastSalePrice\":\"$231.441\",\"netChange\":\"$3.871\",\"percentageChange\":\"+1.70%\",\"deltaIndicator\":\"up\"}"
   ]
  },
  {
   "cell_type": "code",
   "execution_count": null,
   "metadata": {},
   "outputs": [],
   "source": [
    "headers = {'type': 'application/json'}\n",
    "s.get(\"https://api.nasdaq.com/api/quote/list-type/nasdaq100\", headers=headers)"
   ]
  },
  {
   "cell_type": "code",
   "execution_count": null,
   "metadata": {},
   "outputs": [],
   "source": []
  }
 ],
 "metadata": {
  "kernelspec": {
   "display_name": "Python 3",
   "language": "python",
   "name": "python3"
  },
  "language_info": {
   "codemirror_mode": {
    "name": "ipython",
    "version": 3
   },
   "file_extension": ".py",
   "mimetype": "text/x-python",
   "name": "python",
   "nbconvert_exporter": "python",
   "pygments_lexer": "ipython3",
   "version": "3.11.2"
  }
 },
 "nbformat": 4,
 "nbformat_minor": 2
}
